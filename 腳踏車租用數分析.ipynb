{
  "nbformat": 4,
  "nbformat_minor": 0,
  "metadata": {
    "colab": {
      "name": "腳踏車租用數分析.ipynb",
      "provenance": [],
      "collapsed_sections": [],
      "authorship_tag": "ABX9TyP6XsxLcjxrcNNKIfdu5C9M",
      "include_colab_link": true
    },
    "kernelspec": {
      "name": "python3",
      "display_name": "Python 3"
    },
    "language_info": {
      "name": "python"
    }
  },
  "cells": [
    {
      "cell_type": "markdown",
      "metadata": {
        "id": "view-in-github",
        "colab_type": "text"
      },
      "source": [
        "<a href=\"https://colab.research.google.com/github/Nan0917/rental-bike-analysis/blob/main/%E8%85%B3%E8%B8%8F%E8%BB%8A%E7%A7%9F%E7%94%A8%E6%95%B8%E5%88%86%E6%9E%90.ipynb\" target=\"_parent\"><img src=\"https://colab.research.google.com/assets/colab-badge.svg\" alt=\"Open In Colab\"/></a>"
      ]
    },
    {
      "cell_type": "code",
      "source": [
        "import pandas as pd\n",
        "from sklearn.preprocessing import LabelEncoder\n",
        "from sklearn.model_selection import train_test_split\n",
        "from sklearn.linear_model import LinearRegression\n",
        "from sklearn.metrics import mean_absolute_error\n",
        "\n",
        "\n",
        "df = pd.read_csv('https://raw.githubusercontent.com/Nan0917/rental-bike-analysis/main/SeoulBikeData.csv',encoding='gbk', index_col=0)\n",
        "data = df.copy()\n",
        "data = data[data['Functioning Day'] == 'Yes']\n",
        "data.pop('Functioning Day')\n",
        "data = data.dropna()\n",
        "data = data.rename(columns={'Temperature(癈)':'Temperature(C)', 'Dew point temperature(癈)':'Dew point temperature(C)'})\n",
        "le = LabelEncoder()\n",
        "data['Seasons'] = le.fit_transform(data['Seasons'])\n",
        "data['Holiday'] = le.fit_transform(data['Holiday'])\n",
        "target = data.pop('Rented Bike Count')\n",
        "data_train, data_test, target_train, target_test = train_test_split(data.values, target.values, test_size=0.2)\n",
        "reg_model = LinearRegression()\n",
        "reg_model.fit(data_train, target_train)\n",
        "predictions = reg_model.predict(data_test)\n",
        "mae_value = mean_absolute_error(target_test, predictions)\n",
        "\n",
        "print(reg_model.score(data_train, target_train).round(3))\n",
        "print(reg_model.score(data_test, target_test).round(3))\n",
        "print(mae_value.round(3))\n",
        "\n",
        "\n",
        "# print(data['Holiday'])\n",
        "# a = data.iloc[1234,:]\n",
        "# print(data)\n",
        "# print(target)"
      ],
      "metadata": {
        "colab": {
          "base_uri": "https://localhost:8080/"
        },
        "id": "o-lsWaiXhn1s",
        "outputId": "282c8a19-e204-41b0-9e6d-b594ff7fc903"
      },
      "execution_count": 1,
      "outputs": [
        {
          "output_type": "stream",
          "name": "stdout",
          "text": [
            "0.543\n",
            "0.531\n",
            "327.84\n"
          ]
        }
      ]
    }
  ]
}